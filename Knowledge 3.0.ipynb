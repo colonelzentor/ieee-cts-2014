{
 "metadata": {
  "celltoolbar": "Slideshow",
  "name": "",
  "signature": "sha256:2f4f8337f7b2b759146f42876f117878b20d24f25dbda53fbac442d0ffaef9a8"
 },
 "nbformat": 3,
 "nbformat_minor": 0,
 "worksheets": [
  {
   "cells": [
    {
     "cell_type": "markdown",
     "metadata": {
      "slideshow": {
       "slide_type": "slide"
      }
     },
     "source": [
      "# What stops virtual teams from solving problems with models?\n",
      "## _and then_\n",
      "# How might virtual teams make better use of existing models?"
     ]
    },
    {
     "cell_type": "markdown",
     "metadata": {
      "slideshow": {
       "slide_type": "slide"
      }
     },
     "source": [
      "# What is problem solving?\n",
      "- ## Telling a story to\n",
      "  - ### accomplish a goal\n",
      "  - ### answer a question\n",
      "\n",
      "# How might we tell such a story?\n",
      "- ## Identify a problem/(re)phrase the question\n",
      "- ## Propose solutions\n",
      "- ## Evaluate solutions\n",
      "- ## Find new problems..."
     ]
    },
    {
     "cell_type": "markdown",
     "metadata": {
      "slideshow": {
       "slide_type": "slide"
      }
     },
     "source": [
      "# What is a virtual team?\n",
      "- ## Distributed\n",
      "  - ### Time\n",
      "  - ### Location\n",
      "  - ### Goal\n",
      "  - ### Organizational i.e. $upport"
     ]
    },
    {
     "cell_type": "markdown",
     "metadata": {
      "slideshow": {
       "slide_type": "slide"
      }
     },
     "source": [
      "# What is a model?\n",
      "> ## \\\u02c8m\u00e4-d\u0259l\\\n",
      "> \"a system of postulates, data, and inferences presented as a mathematical description of an entity or state of affairs\" \u2013 _[Merriam Webster](http://www.merriam-webster.com/dictionary/model)_"
     ]
    },
    {
     "cell_type": "markdown",
     "metadata": {
      "slideshow": {
       "slide_type": "slide"
      }
     },
     "source": [
      "![Is it worth the time?](http://imgs.xkcd.com/comics/is_it_worth_the_time.png)\n",
      "> [xkcd #1205](http://xkcd.com/1205/)"
     ]
    },
    {
     "cell_type": "markdown",
     "metadata": {
      "slideshow": {
       "slide_type": "slide"
      }
     },
     "source": [
      "![Manuals](http://imgs.xkcd.com/comics/manuals.png )\n",
      "> [xkcd #1343](http://xkcd.com/1343/)"
     ]
    },
    {
     "cell_type": "markdown",
     "metadata": {
      "slideshow": {
       "slide_type": "slide"
      }
     },
     "source": [
      "# How do you get a model to tell stories?\n",
      "- ## Select a model\n",
      "  - ## Find a model\n",
      "  - ## Create a model\n",
      "- ## Execute the model\n",
      "- ## fuzz the model\n",
      "  - statistical charaterizations"
     ]
    },
    {
     "cell_type": "markdown",
     "metadata": {
      "slideshow": {
       "slide_type": "subslide"
      }
     },
     "source": [
      "# Create a model\n",
      "![Lascaux Horse](http://upload.wikimedia.org/wikipedia/commons/0/07/Lascaux2.jpg)"
     ]
    },
    {
     "cell_type": "markdown",
     "metadata": {
      "slideshow": {
       "slide_type": "subslide"
      }
     },
     "source": [
      "# Find a model\n",
      "![Horse Search](./images/horse search.png)"
     ]
    },
    {
     "cell_type": "markdown",
     "metadata": {
      "slideshow": {
       "slide_type": "subslide"
      }
     },
     "source": [
      "# Execute the model\n",
      "![A horse](http://upload.wikimedia.org/wikipedia/commons/d/d7/Muybridge_horse_gallop_animated_2.gif)"
     ]
    },
    {
     "cell_type": "markdown",
     "metadata": {
      "slideshow": {
       "slide_type": "subslide"
      }
     },
     "source": [
      "# Fuzz the model\n",
      "<img src=\"http://upload.wikimedia.org/wikipedia/commons/d/d7/Muybridge_horse_gallop_animated_2.gif\" style=\"display: inline; margin: 0; width: 200px;\"/>\n",
      "<img src=\"http://37.media.tumblr.com/tumblr_lpxxl5YpXo1qcay1ao1_500.gif\" class=\"fragment\" style=\"display: inline; margin: 0;  width: 200px;\"/>\n",
      "<img src=\"http://www.dayonepatch.com/uploads/profile/photo-50624.gif\" class=\"fragment\" style=\"display: inline; margin: 0; width: 200px;\"/>\n",
      "<img src=\"http://big.assets.huffingtonpost.com/camel.gif\" class=\"fragment\" style=\"display: inline; margin: 0; width: 200px;\"/>\n",
      "<img src=\"http://upload.wikimedia.org/wikipedia/commons/f/f9/Eadweard_Muybridge_Gehender_Strau%C3%9F_Animation_001.gif\" class=\"fragment\" style=\"display: inline; margin: 0; width: 200px;\"/>"
     ]
    },
    {
     "cell_type": "markdown",
     "metadata": {
      "slideshow": {
       "slide_type": "slide"
      }
     },
     "source": [
      "# What models are untapped?\n",
      "- ## team as model\n",
      "- ## tools as model\n",
      "- ## history as a model\n",
      "- ## reuse as a model\n",
      "- ## model execution as a model"
     ]
    },
    {
     "cell_type": "markdown",
     "metadata": {
      "slideshow": {
       "slide_type": "slide"
      }
     },
     "source": [
      "# History\n",
      "- ## [Contentify](http://thyb.github.io/contentify/#/learn-more)"
     ]
    },
    {
     "cell_type": "markdown",
     "metadata": {
      "slideshow": {
       "slide_type": "slide"
      }
     },
     "source": [
      "# Search\n",
      "- ## [Wolfram Alpha](http://www.wolframalpha.com/)"
     ]
    },
    {
     "cell_type": "markdown",
     "metadata": {},
     "source": [
      "# Transclusions"
     ]
    },
    {
     "cell_type": "markdown",
     "metadata": {},
     "source": [
      "# Execution\n",
      "- ## [If This Then That](https://ifttt.com/wtf)\n",
      "- ## [Sikuli Slides](http://slides.sikuli.org/docs/actions)"
     ]
    },
    {
     "cell_type": "markdown",
     "metadata": {},
     "source": [
      "# OpenSEAT"
     ]
    },
    {
     "cell_type": "markdown",
     "metadata": {
      "slideshow": {
       "slide_type": "fragment"
      }
     },
     "source": [
      "# The Layers of Perception\n",
      "- HUD\n",
      "  - Control\n",
      "- View\n",
      "  - \n",
      "- Space\n",
      "- Project"
     ]
    },
    {
     "cell_type": "code",
     "collapsed": false,
     "input": [],
     "language": "python",
     "metadata": {},
     "outputs": []
    },
    {
     "cell_type": "markdown",
     "metadata": {
      "slideshow": {
       "slide_type": "slide"
      }
     },
     "source": [
      "> Why is Wolfram Alpha powerful?\n",
      "\n",
      "Curated data."
     ]
    },
    {
     "cell_type": "markdown",
     "metadata": {
      "slideshow": {
       "slide_type": "slide"
      }
     },
     "source": [
      "# Iron Man\n",
      "- what is conceptual design?\n",
      "  - what is parametric conceptual design?\n",
      "  - code it up, fiddle with it until it works\n",
      "    - figure out specific values\n",
      "      - figure out a reasonable range"
     ]
    },
    {
     "cell_type": "markdown",
     "metadata": {
      "slideshow": {
       "slide_type": "slide"
      }
     },
     "source": [
      "> How could someone that is not an engineer\n",
      "\n",
      "- Get executable\n",
      "- Modelica is a good starting point\n",
      "  - I understand what integration is... but I couldn't actually integrate all of them"
     ]
    },
    {
     "cell_type": "markdown",
     "metadata": {
      "slideshow": {
       "slide_type": "slide"
      }
     },
     "source": [
      "> If we are going to use this for Knowledge Management, what are you going to use it for?\n",
      "\n",
      "- Use it to quickly bootstrap engineering, system intervention design problems.\n",
      "- Come up with enough structure to make some initial decisions."
     ]
    }
   ],
   "metadata": {}
  }
 ]
}