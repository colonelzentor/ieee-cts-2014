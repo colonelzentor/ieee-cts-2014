{
 "metadata": {
  "celltoolbar": "Slideshow",
  "name": "",
  "signature": "sha256:feed662e957910c7b03a57a87fc908174fa3063cb2a2a9e7caa427edfc9fec9d"
 },
 "nbformat": 3,
 "nbformat_minor": 0,
 "worksheets": [
  {
   "cells": [
    {
     "cell_type": "markdown",
     "metadata": {
      "slideshow": {
       "slide_type": "slide"
      }
     },
     "source": [
      "# Thinking from the System Architecture: A Better Methodology for Capture of Collaborative Knowledge\n",
      "## Jack Zentner, _Nick Bollweg, Tom McDermott_\n",
      "### The Georgia Tech Research Institute\n",
      "\n",
      "### 22 May 2014\n",
      "_Presented to_\n",
      "### The 2014 International Conference on Collaboration Technologies & Systems"
     ]
    },
    {
     "cell_type": "markdown",
     "metadata": {
      "slideshow": {
       "slide_type": "slide"
      }
     },
     "source": [
      "# Outline\n",
      "- ## Background\n",
      "- ## Current Trends\n",
      "- ## Design Challenges\n",
      "- ## Proposed Architecture"
     ]
    },
    {
     "cell_type": "markdown",
     "metadata": {
      "slideshow": {
       "slide_type": "slide"
      }
     },
     "source": [
      "# Who are we?\n",
      "- ## GTRI: _applied research arm of Georgia Tech_\n",
      "- ## Our Group: _design and apply systems engineering methodologies and tools to early stage design problems_\n",
      "  > - conceptual design\n",
      "  > - strategic decision making\n",
      "  > - requirements analysis, etc.\n",
      "- ## Also: _education & consulting_\n",
      "  > - Professional Masters of Applied Systems Engineering\n",
      "  > - Advanced Problem Solving Certificate\n",
      "  > - Systems Engineering Certificate\n",
      "  > - Custom Short Courses"
     ]
    },
    {
     "cell_type": "markdown",
     "metadata": {
      "slideshow": {
       "slide_type": "slide"
      }
     },
     "source": [
      "# What stops virtual teams from solving problems with models?"
     ]
    },
    {
     "cell_type": "markdown",
     "metadata": {},
     "source": [
      "## _and then_\n",
      "# How might virtual teams make better use of existing models?"
     ]
    },
    {
     "cell_type": "markdown",
     "metadata": {
      "slideshow": {
       "slide_type": "slide"
      }
     },
     "source": [
      "# What is problem solving?\n",
      "- ## Telling a story to\n",
      "    - ### accomplish a goal\n",
      "    - ### answer a question\n",
      "\n",
      "# How might we tell such a story?\n",
      "- ## Identify a problem/(re)phrase the question\n",
      "- ## Propose solutions\n",
      "- ## Evaluate solutions\n",
      "- ## Find new problems..."
     ]
    },
    {
     "cell_type": "markdown",
     "metadata": {
      "slideshow": {
       "slide_type": "slide"
      }
     },
     "source": [
      "# What is a model?\n",
      "> ## \\\u02c8m\u00e4-d\u0259l\\\n",
      "> \"a system of postulates, data, and inferences presented as a mathematical description of an entity or state of affairs\" \u2013 _[Merriam Webster](http://www.merriam-webster.com/dictionary/model)_"
     ]
    },
    {
     "cell_type": "markdown",
     "metadata": {
      "slideshow": {
       "slide_type": "slide"
      }
     },
     "source": [
      "# How do you get a model to tell stories?\n",
      "- ## Select a model\n",
      "    - ### Find a model\n",
      "    - ### Create a model\n",
      "- ## Execute the model\n",
      "- ## Fuzz the model\n",
      "    - ### statistical charaterizations"
     ]
    },
    {
     "cell_type": "markdown",
     "metadata": {
      "slideshow": {
       "slide_type": "subslide"
      }
     },
     "source": [
      "# Create a model\n",
      "![Lascaux Horse](http://upload.wikimedia.org/wikipedia/commons/0/07/Lascaux2.jpg)"
     ]
    },
    {
     "cell_type": "markdown",
     "metadata": {
      "slideshow": {
       "slide_type": "subslide"
      }
     },
     "source": [
      "# Find a model\n",
      "![Horse Search](./images/horse search.png)"
     ]
    },
    {
     "cell_type": "markdown",
     "metadata": {
      "slideshow": {
       "slide_type": "subslide"
      }
     },
     "source": [
      "# Execute the model\n",
      "![A horse](http://upload.wikimedia.org/wikipedia/commons/d/d7/Muybridge_horse_gallop_animated_2.gif)"
     ]
    },
    {
     "cell_type": "markdown",
     "metadata": {
      "slideshow": {
       "slide_type": "subslide"
      }
     },
     "source": [
      "# Fuzz the model\n",
      "<img src=\"http://upload.wikimedia.org/wikipedia/commons/d/d7/Muybridge_horse_gallop_animated_2.gif\" style=\"display: inline; margin: 0; width: 200px;\"/>\n",
      "<img src=\"http://37.media.tumblr.com/tumblr_lpxxl5YpXo1qcay1ao1_500.gif\" class=\"fragment\" style=\"display: inline; margin: 0;  width: 200px;\"/>\n",
      "<img src=\"http://www.dayonepatch.com/uploads/profile/photo-50624.gif\" class=\"fragment\" style=\"display: inline; margin: 0; width: 200px;\"/>\n",
      "<img src=\"http://big.assets.huffingtonpost.com/camel.gif\" class=\"fragment\" style=\"display: inline; margin: 0; width: 200px;\"/>\n",
      "<img src=\"http://upload.wikimedia.org/wikipedia/commons/f/f9/Eadweard_Muybridge_Gehender_Strau%C3%9F_Animation_001.gif\" class=\"fragment\" style=\"display: inline; margin: 0; width: 200px;\"/>"
     ]
    },
    {
     "cell_type": "markdown",
     "metadata": {
      "slideshow": {
       "slide_type": "slide"
      }
     },
     "source": [
      "# Where are the gaps in _de facto_ \"modeling\" tools?\n",
      "- ## Office Productivity Tools\n",
      "    - ### over-general, static\n",
      "    - ### siloed\n",
      "    - ### requires human intrepretation\n",
      "- ## Domain-specific Modeling Environments\n",
      "    - ### tool complexity and interoperability  \n",
      "- ## Brainstorming Tools\n",
      "    - ### static\n",
      "    - ### limited impact\n",
      "- ## Knowledge Management Systems\n",
      "    - ### adoption\n",
      "    - ### interoperability"
     ]
    },
    {
     "cell_type": "markdown",
     "metadata": {
      "slideshow": {
       "slide_type": "slide"
      }
     },
     "source": [
      "# User experience trends... for modeling?\n",
      "- ## Collaboration vs History\n",
      "    - ### [Google Drive](https://support.google.com/drive/answer/2424384?hl=en)\n",
      "    - ### [Github](http://github.com)\n",
      "- ## Curated Semantic Search\n",
      "    - ### [Wolfram Alpha](http://www.wolframalpha.com/)\n",
      "- ## Transclusions \n",
      "    - ### [Compendium](http://compendium.open.ac.uk/institute/tools/tools.htm)\n",
      "    - ### [SysML (Papyrus)](http://www.eclipse.org/papyrus/)\n",
      "- ## Execution\n",
      "    - ### [If This Then That](https://ifttt.com/wtf)\n",
      "    - ### [Flowhub](http://flowhub.io)\n",
      "    - ### [IPython Notebook](http://ipython.org/notebook.html)"
     ]
    },
    {
     "cell_type": "markdown",
     "metadata": {
      "slideshow": {
       "slide_type": "subslide"
      }
     },
     "source": [
      "# Backend opportunities for Problem-Solving Tools\n",
      "- ## Semantic Exploitation\n",
      "    - ### [Apache Stanbol](https://stanbol.apache.org/)\n",
      "- ## Data Representation\n",
      "    - ### [Blaze](http://blaze.pydata.org)\n",
      "    - ### [JSON-LD](http://json-ld.org/)\n",
      "    - ### [OSLC](http://open-services.net/)\n",
      "- ## Data Curation\n",
      "    - ### [Linked Data Package Manager](https://registry.standardanalytics.io/)"
     ]
    },
    {
     "cell_type": "markdown",
     "metadata": {
      "slideshow": {
       "slide_type": "slide"
      }
     },
     "source": [
      "# How can we model the context of problem solving?\n",
      "- ## users & roles\n",
      "- ## tools used\n",
      "- ## history\n",
      "- ## reuse\n",
      "- ## model execution & impact\n",
      "- ## outputs: documents, outlines & presentations"
     ]
    },
    {
     "cell_type": "markdown",
     "metadata": {
      "slideshow": {
       "slide_type": "slide"
      }
     },
     "source": [
      "# Pilot Implementation: PMASE Tools\n",
      "- ## [Professional Masters of Applied Systems Engineering](http://pmase.gatech.edu) @ Georgia Tech\n",
      "- ## First-Week Activity\n",
      "     - ### Pitch: 1-slide Presentation & 1-page Whitepaper\n",
      "     - ### Downselect: Vote & Form teams (3-5 students per group)\n",
      "     - ### Requirements Analysis: Use Cases & Stakeholders \n",
      "     - ### Solution: Functional & Physical Decomposition, AoA \n",
      "     - ### Outbrief: Final Presentation & Report\n",
      "- ## Status Quo Tools\n",
      "     - ### Office Tools: Word, Excel, PowerPoint\n",
      "     - ### MagicDraw"
     ]
    },
    {
     "cell_type": "markdown",
     "metadata": {
      "slideshow": {
       "slide_type": "slide"
      }
     },
     "source": [
      "# OpenSEAT\n",
      "\n",
      "### The _Open Systems Engineering & Architecture Toolkit_\n",
      "\n",
      "- ## Web-based, Multi-user, Concurrent editing\n",
      "- ## Mobile-first\n",
      "- ## Open Source, Open Community\n",
      "    - ### MIT Licensed\n",
      "    - ### <i class=\"icon-github icon-2x\"></i> [ openseat](http://github.com/openseat)"
     ]
    },
    {
     "cell_type": "markdown",
     "metadata": {
      "slideshow": {
       "slide_type": "slide"
      }
     },
     "source": [
      "# How does OpenSEAT organize models for sharing?\n",
      "<div data-svg-fragment=\"images/layers.svg\">\n",
      "  <a class=\"fragment\" title=\"[*|label=concept]\"></a>\n",
      "  <a class=\"fragment\" title=\"[*|label=space]\"></a>\n",
      "  <a class=\"fragment\" title=\"[*|label=view]\"></a>\n",
      "  <a class=\"fragment\" title=\"[*|label=annotation]\"></a>\n",
      "  <a class=\"fragment\" title=\"[*|label=overlay]\"></a>\n",
      "</div>"
     ]
    },
    {
     "cell_type": "markdown",
     "metadata": {
      "slideshow": {
       "slide_type": "slide"
      }
     },
     "source": [
      "# Initial Conceptual Models\n",
      "- ## Qualitative Models\n",
      "    - ### Affinity\n",
      "    - ### Interrelationship\n",
      "    - ### Tree\n",
      "    - ### Matrix\n",
      "    - ### Prioritization\n",
      "- ## System Models\n",
      "    - ### SysML Use Cases\n",
      "    - ### SysML Requirements"
     ]
    },
    {
     "cell_type": "markdown",
     "metadata": {
      "slideshow": {
       "slide_type": "slide"
      }
     },
     "source": [
      "# Initial Contextual Documentation Models\n",
      "- ## Research Models\n",
      "    - ### Annotation\n",
      "- ## Narrative Models\n",
      "    - ### Storyboard\n",
      "    - ### Document\n",
      "- ## Management Models\n",
      "    - ### Projects\n",
      "    - ### Users"
     ]
    },
    {
     "cell_type": "markdown",
     "metadata": {
      "slideshow": {
       "slide_type": "slide"
      }
     },
     "source": [
      "# What are the key components of OpenSEAT?\n",
      "\n",
      "<div data-svg-fragment=\"images/stack.svg\">\n",
      "  <a class=\"fragment\" title=\"[*|label=data]\"></a>\n",
      "  <a class=\"fragment\" title=\"[*|label=app]\"></a>\n",
      "  <a class=\"fragment\" title=\"[*|label=browser]\"></a>\n",
      "</div>"
     ]
    },
    {
     "cell_type": "markdown",
     "metadata": {
      "slideshow": {
       "slide_type": "slide"
      }
     },
     "source": [
      "# Questions?\n",
      "![TMI](http://imgs.xkcd.com/comics/tmi.png)"
     ]
    },
    {
     "cell_type": "code",
     "collapsed": false,
     "input": [
      "def nbconvert(to_format=\"slides\"):\n",
      "    import subprocess\n",
      "    import os\n",
      "    import sys\n",
      "    env = os.environ.copy()\n",
      "    if \"win\" in sys.platform:\n",
      "        env[\"PATH\"] = os.path.expanduser(\"~\") + \"AppData\\Local\\Pandoc;\" + env[\"PATH\"]\n",
      "    \n",
      "    print subprocess.Popen(\n",
      "        [\"ipython\", \"nbconvert\", \"*.ipynb\", \"--to\", to_format],\n",
      "        env=env,\n",
      "        stdout=subprocess.PIPE,\n",
      "        stderr=subprocess.PIPE\n",
      "    ).communicate()\n",
      "\n",
      "def install_svg_reveal():\n",
      "    import re\n",
      "    import os\n",
      "    dep_pattern = re.compile(r'(reveal.js/plugin/notes/notes.js.*\\})')\n",
      "    dep = r\"\"\"\\1,\n",
      "    {\n",
      "        src: \"reveal-svg-fragment/reveal-svg-fragment.js\",\n",
      "        async: true,\n",
      "        condition: function(){ return true; }\n",
      "    }\n",
      "    \"\"\"\n",
      "    \n",
      "    size_pattern = r'(Reveal.initialize\\(\\{)'\n",
      "    size = r'\\1 width: 1024, height: 768,'\n",
      "    \n",
      "    fname = \"Knowledge 3.0.slides.html\"\n",
      "    with file(fname) as f:\n",
      "        src = f.read()\n",
      "    if dep not in src:\n",
      "        src = re.sub(dep_pattern, dep, src)\n",
      "        src = re.sub(size_pattern, size, src)\n",
      "        \n",
      "    os.unlink(fname)\n",
      "    with file('index.html', \"w+\") as f:\n",
      "        f.write(src)\n",
      "nbconvert()\n",
      "install_svg_reveal()"
     ],
     "language": "python",
     "metadata": {
      "slideshow": {
       "slide_type": "skip"
      }
     },
     "outputs": [
      {
       "output_type": "stream",
       "stream": "stdout",
       "text": [
        "('', \"[NbConvertApp] Using existing profile dir: u'/home/jack/.ipython/profile_default'\\n[NbConvertApp] Converting notebook Knowledge 3.0.ipynb to slides\\n[NbConvertApp] Support files will be in Knowledge 3.0_files/\\n[NbConvertApp] Loaded template slides_reveal.tpl\\n[NbConvertApp] Writing 211539 bytes to Knowledge 3.0.slides.html\\n\")\n"
       ]
      }
     ],
     "prompt_number": 2
    },
    {
     "cell_type": "code",
     "collapsed": false,
     "input": [],
     "language": "python",
     "metadata": {},
     "outputs": []
    }
   ],
   "metadata": {}
  }
 ]
}