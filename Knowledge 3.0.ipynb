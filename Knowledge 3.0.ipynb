{
 "metadata": {
  "celltoolbar": "Slideshow",
  "name": "",
  "signature": "sha256:dc8fe1f7013101f89b7ad637eca86cef09e8688258b6ea71d832c52045c74244"
 },
 "nbformat": 3,
 "nbformat_minor": 0,
 "worksheets": [
  {
   "cells": [
    {
     "cell_type": "markdown",
     "metadata": {
      "slideshow": {
       "slide_type": "slide"
      }
     },
     "source": [
      "# What stops virtual teams from solving problems with models?\n",
      "## _and then_\n",
      "# How might virtual teams make better use of existing models?"
     ]
    },
    {
     "cell_type": "markdown",
     "metadata": {
      "slideshow": {
       "slide_type": "slide"
      }
     },
     "source": [
      "# What is problem solving?\n",
      "- ## Telling a story to\n",
      "    - ### accomplish a goal\n",
      "    - ### answer a question\n",
      "\n",
      "# How might we tell such a story?\n",
      "- ## Identify a problem/(re)phrase the question\n",
      "- ## Propose solutions\n",
      "- ## Evaluate solutions\n",
      "- ## Find new problems..."
     ]
    },
    {
     "cell_type": "markdown",
     "metadata": {
      "slideshow": {
       "slide_type": "slide"
      }
     },
     "source": [
      "# What is a virtual team?\n",
      "- ## Distributed\n",
      "    - ### Time\n",
      "    - ### Location\n",
      "    - ### Goal\n",
      "    - ### Organizational/Managerial"
     ]
    },
    {
     "cell_type": "markdown",
     "metadata": {
      "slideshow": {
       "slide_type": "slide"
      }
     },
     "source": [
      "# What is a model?\n",
      "> ## \\\u02c8m\u00e4-d\u0259l\\\n",
      "> \"a system of postulates, data, and inferences presented as a mathematical description of an entity or state of affairs\" \u2013 _[Merriam Webster](http://www.merriam-webster.com/dictionary/model)_"
     ]
    },
    {
     "cell_type": "markdown",
     "metadata": {
      "slideshow": {
       "slide_type": "slide"
      }
     },
     "source": [
      "# How do you get a model to tell stories?\n",
      "- ## Select a model\n",
      "    - ### Find a model\n",
      "    - ### Create a model\n",
      "- ## Execute the model\n",
      "- ## Fuzz the model\n",
      "    - ### statistical charaterizations"
     ]
    },
    {
     "cell_type": "markdown",
     "metadata": {
      "slideshow": {
       "slide_type": "subslide"
      }
     },
     "source": [
      "# Create a model\n",
      "![Lascaux Horse](http://upload.wikimedia.org/wikipedia/commons/0/07/Lascaux2.jpg)"
     ]
    },
    {
     "cell_type": "markdown",
     "metadata": {
      "slideshow": {
       "slide_type": "subslide"
      }
     },
     "source": [
      "# Find a model\n",
      "![Horse Search](./images/horse search.png)"
     ]
    },
    {
     "cell_type": "markdown",
     "metadata": {
      "slideshow": {
       "slide_type": "subslide"
      }
     },
     "source": [
      "# Execute the model\n",
      "![A horse](http://upload.wikimedia.org/wikipedia/commons/d/d7/Muybridge_horse_gallop_animated_2.gif)"
     ]
    },
    {
     "cell_type": "markdown",
     "metadata": {
      "slideshow": {
       "slide_type": "subslide"
      }
     },
     "source": [
      "# Fuzz the model\n",
      "<img src=\"http://upload.wikimedia.org/wikipedia/commons/d/d7/Muybridge_horse_gallop_animated_2.gif\" style=\"display: inline; margin: 0; width: 200px;\"/>\n",
      "<img src=\"http://37.media.tumblr.com/tumblr_lpxxl5YpXo1qcay1ao1_500.gif\" class=\"fragment\" style=\"display: inline; margin: 0;  width: 200px;\"/>\n",
      "<img src=\"http://www.dayonepatch.com/uploads/profile/photo-50624.gif\" class=\"fragment\" style=\"display: inline; margin: 0; width: 200px;\"/>\n",
      "<img src=\"http://big.assets.huffingtonpost.com/camel.gif\" class=\"fragment\" style=\"display: inline; margin: 0; width: 200px;\"/>\n",
      "<img src=\"http://upload.wikimedia.org/wikipedia/commons/f/f9/Eadweard_Muybridge_Gehender_Strau%C3%9F_Animation_001.gif\" class=\"fragment\" style=\"display: inline; margin: 0; width: 200px;\"/>"
     ]
    },
    {
     "cell_type": "markdown",
     "metadata": {
      "slideshow": {
       "slide_type": "slide"
      }
     },
     "source": [
      "# Where are the gaps in current tools?\n",
      "- ## Office Productivity Tools\n",
      "    - ### over-general, static\n",
      "    - ### siloed\n",
      "    - ### requires human intrepretation\n",
      "- ## Domain-specific Modeling Environments\n",
      "    - ### tool complexity and interoperability  \n",
      "- ## Context Mapping\n",
      "    - ### static"
     ]
    },
    {
     "cell_type": "markdown",
     "metadata": {
      "slideshow": {
       "slide_type": "subslide"
      }
     },
     "source": [
      "![Manuals](http://imgs.xkcd.com/comics/manuals.png)\n",
      "\n",
      "> [xkcd #1343](http://xkcd.com/1343/)"
     ]
    },
    {
     "cell_type": "markdown",
     "metadata": {
      "slideshow": {
       "slide_type": "slide"
      }
     },
     "source": [
      "# What about Knowledge Management Systems?\n",
      "  > _...between the input resources and the business performance outcomes..._\n",
      "  >\n",
      "  > _...between the value these enterprises create and the value demanded by changing market conditions, consumer preferences, competitive offerings, and, changing business models..._\n",
      "  >\n",
      "  > _...[between] usefulness of such inputs and how they are strategically deployed..._\n",
      "  >\n",
      "  > _[Malhotra 2004]_\n"
     ]
    },
    {
     "cell_type": "markdown",
     "metadata": {
      "slideshow": {
       "slide_type": "subslide"
      }
     },
     "source": [
      "![Is it worth the time?](http://imgs.xkcd.com/comics/is_it_worth_the_time.png)\n",
      "\n",
      "> [xkcd #1205](http://xkcd.com/1205/)"
     ]
    },
    {
     "cell_type": "markdown",
     "metadata": {
      "slideshow": {
       "slide_type": "slide"
      }
     },
     "source": [
      "# User experience trends in Problem-Solving Tools\n",
      "- ## History & Collaboration\n",
      "    - ### [Google Drive](https://support.google.com/drive/answer/2424384?hl=en)\n",
      "- ## Search\n",
      "    - ### [Wolfram Alpha](http://www.wolframalpha.com/)\n",
      "- ## Transclusions\n",
      "    - ### [Compendium](http://compendium.open.ac.uk/institute/tools/tools.htm)\n",
      "    - ### [Papyrus](http://www.eclipse.org/papyrus/)\n",
      "- ## Execution\n",
      "    - ### [If This Then That](https://ifttt.com/wtf)\n",
      "    - ### [Sikuli Slides](http://slides.sikuli.org/docs/actions)\n",
      "    - ### [IPython Notebook](http://ipython.org/notebook.html)"
     ]
    },
    {
     "cell_type": "markdown",
     "metadata": {
      "slideshow": {
       "slide_type": "slide"
      }
     },
     "source": [
      "# Backend opportunities for Problem-Solving Tools\n",
      "- ## Semantic Exploitation\n",
      "    - ### [Apache Stanbol](https://stanbol.apache.org/)\n",
      "- ## Data Representation\n",
      "    - ### [Blaze](http://blaze.pydata.org)\n",
      "    - ### [JSON-LD](http://json-ld.org/)\n",
      "    - ### [OSLC](http://open-services.net/)\n",
      "- ## Data Curation\n",
      "    - ### [Linked Data Package Manager](https://registry.standardanalytics.io/)"
     ]
    },
    {
     "cell_type": "markdown",
     "metadata": {
      "slideshow": {
       "slide_type": "slide"
      }
     },
     "source": [
      "# OpenSEAT\n",
      "\n",
      "### The _Open Systems Engineering & Architecture Toolkit_\n",
      "\n",
      "<img src=\"images/openseat.svg\" style=\"float:right;\"/>\n",
      "\n",
      "- ## Multi-user, Live, Web-based\n",
      "- ## Mobile-first\n",
      "- ## Open Source, Open Community\n",
      "    - ### MIT Licensed\n",
      "    - ### <i class=\"icon-github icon-2x\"></i> [ openseat](http://github.com/openseat)"
     ]
    },
    {
     "cell_type": "markdown",
     "metadata": {
      "slideshow": {
       "slide_type": "slide"
      }
     },
     "source": [
      "# How does OpenSEAT organize models for sharing?\n",
      "<div data-svg-fragment=\"images/layers.svg\">\n",
      "  <a class=\"fragment\" title=\"[*|label=concept]\"></a>\n",
      "  <a class=\"fragment\" title=\"[*|label=space]\"></a>\n",
      "  <a class=\"fragment\" title=\"[*|label=view]\"></a>\n",
      "  <a class=\"fragment\" title=\"[*|label=annotation]\"></a>\n",
      "  <a class=\"fragment\" title=\"[*|label=overlay]\"></a>\n",
      "</div>"
     ]
    },
    {
     "cell_type": "markdown",
     "metadata": {
      "slideshow": {
       "slide_type": "slide"
      }
     },
     "source": [
      "# What are the key components of OpenSEAT?\n",
      "\n",
      "<div data-svg-fragment=\"images/stack.svg\">\n",
      "  <a class=\"fragment\" title=\"[*|label=data]\"></a>\n",
      "  <a class=\"fragment\" title=\"[*|label=app]\"></a>\n",
      "  <a class=\"fragment\" title=\"[*|label=browser]\"></a>\n",
      "</div>"
     ]
    },
    {
     "cell_type": "markdown",
     "metadata": {
      "slideshow": {
       "slide_type": "slide"
      }
     },
     "source": [
      "# OpenSEAT Pilot: PMASE\n",
      "- ## [Professional Masters of Applied Systems Engineering](http://pmase.gatech.edu) @ Georgia Tech\n",
      "- ## First-Week Activity\n",
      "     - ### 1-slide Presentation & 1-page Whitepaper\n",
      "     - ### Downselect & Form teams (3-5 students per group)\n",
      "     - ### Use Cases & Requirements Analysis\n",
      "     - ### Final Presentation & Report"
     ]
    },
    {
     "cell_type": "markdown",
     "metadata": {
      "slideshow": {
       "slide_type": "slide"
      }
     },
     "source": [
      "# Initial Models: Spaces and Concepts\n",
      "- ## Quality Models\n",
      "    - ### Affinity\n",
      "    - ### Interrelationship\n",
      "    - ### Tree\n",
      "    - ### Matrix\n",
      "    - ### Prioritization\n",
      "- ## System Models\n",
      "    - ### Use Cases\n",
      "    - ### Requirements\n",
      "- ## Research Models\n",
      "    - ### Document Annotation\n",
      "- ## Narrative Models\n",
      "    - ### Storyboard\n",
      "    - ### Document"
     ]
    },
    {
     "cell_type": "markdown",
     "metadata": {
      "slideshow": {
       "slide_type": "slide"
      }
     },
     "source": [
      "# What models remain untapped?\n",
      "- ## team as model\n",
      "- ## tools as model\n",
      "- ## history as a model\n",
      "- ## reuse as a model\n",
      "- ## model execution as a model\n",
      "- ## collaboration space as model"
     ]
    },
    {
     "cell_type": "markdown",
     "metadata": {
      "slideshow": {
       "slide_type": "slide"
      }
     },
     "source": [
      "# References\n",
      "- Malhotra, Y., [Why Knowledge Management Systems Fail? Enablers and Constraints of Knowledge Management in Human Enterprises](http://www.brint.org/WhyKMSFail.htm) . In Michael E.D. Koenig & T. Kanti Srikantaiah (Eds.), _Knowledge Management Lessons Learned: What Works and What Doesn't_, Information Today Inc. (American Society for Information Science and Technology Monograph Series), 87-112, 2004."
     ]
    },
    {
     "cell_type": "code",
     "collapsed": false,
     "input": [
      "def nbconvert(to_format=\"slides\"):\n",
      "    import subprocess\n",
      "    import os\n",
      "    import sys\n",
      "    env = os.environ.copy()\n",
      "    if \"win\" in sys.platform:\n",
      "        env[\"PATH\"] = os.path.expanduser(\"~\") + \"AppData\\Local\\Pandoc;\" + env[\"PATH\"]\n",
      "    \n",
      "    print subprocess.Popen(\n",
      "        [\"ipython\", \"nbconvert\", \"*.ipynb\", \"--to\", to_format],\n",
      "        env=env,\n",
      "        stdout=subprocess.PIPE,\n",
      "        stderr=subprocess.PIPE\n",
      "    ).communicate()\n",
      "\n",
      "def install_svg_reveal():\n",
      "    import re\n",
      "    import os\n",
      "    pattern = re.compile(r'(reveal.js/plugin/notes/notes.js.*\\})')\n",
      "    dep = r\"\"\"\\1,\n",
      "    {\n",
      "        src: \"reveal-svg-fragment/reveal-svg-fragment.js\",\n",
      "        async: true,\n",
      "        condition: function(){ return true; }\n",
      "    }\n",
      "    \"\"\"\n",
      "    fname = \"Knowledge 3.0.slides.html\"\n",
      "    with file(fname) as f:\n",
      "        src = f.read()\n",
      "    if dep not in src:\n",
      "        src = re.sub(pattern, dep, src)\n",
      "    os.unlink(fname)\n",
      "    with file(fname, \"w+\") as f:\n",
      "        f.write(src)\n",
      "nbconvert()\n",
      "install_svg_reveal()"
     ],
     "language": "python",
     "metadata": {
      "slideshow": {
       "slide_type": "skip"
      }
     },
     "outputs": [
      {
       "output_type": "stream",
       "stream": "stdout",
       "text": [
        "('', '[NbConvertApp] Using existing profile dir: u\\'C:\\\\\\\\Users\\\\\\\\nbollweg3\\\\\\\\.ipython\\\\\\\\profile_default\\'\\r\\n[NbConvertApp] Converting notebook Knowledge 3.0.ipynb to slides\\r\\n[NbConvertApp] Support files will be in Knowledge 3.0_files\\\\\\r\\n[NbConvertApp] Loaded template slides_reveal.tpl\\r\\nc:\\\\virtualenvs\\\\ipython\\\\lib\\\\site-packages\\\\IPython\\\\nbconvert\\\\filters\\\\markdown.py:78: UserWarning: Node.js 0.9.12 or later wasn\\'t found.\\r\\nNbconvert will try to use Pandoc instead.\\r\\n  \"Nbconvert will try to use Pandoc instead.\")\\r\\n[NbConvertApp] Writing 206992 bytes to Knowledge 3.0.slides.html\\r\\n')\n"
       ]
      }
     ],
     "prompt_number": 22
    }
   ],
   "metadata": {}
  }
 ]
}