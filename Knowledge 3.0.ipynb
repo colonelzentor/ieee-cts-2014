{
 "metadata": {
  "celltoolbar": "Slideshow",
  "name": "",
  "signature": "sha256:002dced6ec97403715c771be74891da684ba696db540e453d2601f2eb791047a"
 },
 "nbformat": 3,
 "nbformat_minor": 0,
 "worksheets": [
  {
   "cells": [
    {
     "cell_type": "markdown",
     "metadata": {
      "slideshow": {
       "slide_type": "slide"
      }
     },
     "source": [
      "# What stops virtual teams from solving problems with models?\n",
      "## _and then_\n",
      "# How might virtual teams make better use of existing models?"
     ]
    },
    {
     "cell_type": "markdown",
     "metadata": {
      "slideshow": {
       "slide_type": "slide"
      }
     },
     "source": [
      "# What is problem solving?\n",
      "- ## Telling a story to\n",
      "  - ### accomplish a goal\n",
      "  - ### answer a question\n",
      "\n",
      "# How might we tell such a story?\n",
      "- ## Identify a problem/(re)phrase the question\n",
      "- ## Propose solutions\n",
      "- ## Evaluate solutions\n",
      "- ## Find new problems..."
     ]
    },
    {
     "cell_type": "markdown",
     "metadata": {
      "slideshow": {
       "slide_type": "slide"
      }
     },
     "source": [
      "# What is a virtual team?\n",
      "- ## Distributed\n",
      "  - ### Time\n",
      "  - ### Location\n",
      "  - ### Goal\n",
      "  - ### Organizational i.e. $upport"
     ]
    },
    {
     "cell_type": "markdown",
     "metadata": {
      "slideshow": {
       "slide_type": "slide"
      }
     },
     "source": [
      "# What is a model?\n",
      "> ## \\\u02c8m\u00e4-d\u0259l\\\n",
      "> \"a system of postulates, data, and inferences presented as a mathematical description of an entity or state of affairs\" \u2013 _[Merriam Webster](http://www.merriam-webster.com/dictionary/model)_"
     ]
    },
    {
     "cell_type": "markdown",
     "metadata": {
      "slideshow": {
       "slide_type": "slide"
      }
     },
     "source": [
      "![Is it worth the time?](http://imgs.xkcd.com/comics/is_it_worth_the_time.png)\n",
      "> [xkcd #1205](http://xkcd.com/1205/)"
     ]
    },
    {
     "cell_type": "markdown",
     "metadata": {
      "slideshow": {
       "slide_type": "slide"
      }
     },
     "source": [
      "![Manuals](http://imgs.xkcd.com/comics/manuals.png )\n",
      "> [xkcd #1343](http://xkcd.com/1343/)"
     ]
    },
    {
     "cell_type": "markdown",
     "metadata": {
      "slideshow": {
       "slide_type": "slide"
      }
     },
     "source": [
      "# How do you get a model to tell stories?\n",
      "- ## Select a model\n",
      "  - ### Find a model\n",
      "  - ### Create a model\n",
      "- ## Execute the model\n",
      "- ## Fuzz the model\n",
      "  - ### statistical charaterizations"
     ]
    },
    {
     "cell_type": "markdown",
     "metadata": {
      "slideshow": {
       "slide_type": "subslide"
      }
     },
     "source": [
      "# Create a model\n",
      "![Lascaux Horse](http://upload.wikimedia.org/wikipedia/commons/0/07/Lascaux2.jpg)"
     ]
    },
    {
     "cell_type": "markdown",
     "metadata": {
      "slideshow": {
       "slide_type": "subslide"
      }
     },
     "source": [
      "# Find a model\n",
      "![Horse Search](./images/horse search.png)"
     ]
    },
    {
     "cell_type": "markdown",
     "metadata": {
      "slideshow": {
       "slide_type": "subslide"
      }
     },
     "source": [
      "# Execute the model\n",
      "![A horse](http://upload.wikimedia.org/wikipedia/commons/d/d7/Muybridge_horse_gallop_animated_2.gif)"
     ]
    },
    {
     "cell_type": "markdown",
     "metadata": {
      "slideshow": {
       "slide_type": "subslide"
      }
     },
     "source": [
      "# Fuzz the model\n",
      "<img src=\"http://upload.wikimedia.org/wikipedia/commons/d/d7/Muybridge_horse_gallop_animated_2.gif\" style=\"display: inline; margin: 0; width: 200px;\"/>\n",
      "<img src=\"http://37.media.tumblr.com/tumblr_lpxxl5YpXo1qcay1ao1_500.gif\" class=\"fragment\" style=\"display: inline; margin: 0;  width: 200px;\"/>\n",
      "<img src=\"http://www.dayonepatch.com/uploads/profile/photo-50624.gif\" class=\"fragment\" style=\"display: inline; margin: 0; width: 200px;\"/>\n",
      "<img src=\"http://big.assets.huffingtonpost.com/camel.gif\" class=\"fragment\" style=\"display: inline; margin: 0; width: 200px;\"/>\n",
      "<img src=\"http://upload.wikimedia.org/wikipedia/commons/f/f9/Eadweard_Muybridge_Gehender_Strau%C3%9F_Animation_001.gif\" class=\"fragment\" style=\"display: inline; margin: 0; width: 200px;\"/>"
     ]
    },
    {
     "cell_type": "markdown",
     "metadata": {
      "slideshow": {
       "slide_type": "slide"
      }
     },
     "source": [
      "# Where are the gaps in current tools?\n",
      "- ## Office Productivity Tools\n",
      "  - ### over-general, static\n",
      "  - ### siloed\n",
      "  - ### requires human intrepretation\n",
      "- ## Domain-specific Modeling Environments\n",
      "  - ### tool complexity and interoperability  \n",
      "- ## Context Mapping\n",
      "  - ### static"
     ]
    },
    {
     "cell_type": "markdown",
     "metadata": {
      "slideshow": {
       "slide_type": "slide"
      }
     },
     "source": [
      "# What about Knowledge Management Systems?\n",
      "  > _...between the input resources and the business performance outcomes..._\n",
      "  >\n",
      "  > _...between the value these enterprises create and the value demanded by changing market conditions, consumer preferences, competitive offerings, and, changing business models..._\n",
      "  >\n",
      "  > _...[between] usefulness of such inputs and how they are strategically deployed..._\n",
      "  >\n",
      "  > _[Malhotra 2004]_\n"
     ]
    },
    {
     "cell_type": "markdown",
     "metadata": {
      "slideshow": {
       "slide_type": "slide"
      }
     },
     "source": [
      "# Positive user experience trends in problem solving\n",
      "- ## History & Collaboration\n",
      " - ### [Google Drive](https://support.google.com/drive/answer/2424384?hl=en)\n",
      "- ## Search\n",
      " - ### [Wolfram Alpha](http://www.wolframalpha.com/)\n",
      "- ## Transclusions\n",
      " - ### [Compendium](http://compendium.open.ac.uk/institute/tools/tools.htm)\n",
      " - ### [Papyrus](http://www.eclipse.org/papyrus/)\n",
      "- ## Execution\n",
      " - ### [If This Then That](https://ifttt.com/wtf)\n",
      " - ### [Sikuli Slides](http://slides.sikuli.org/docs/actions)"
     ]
    },
    {
     "cell_type": "markdown",
     "metadata": {
      "slideshow": {
       "slide_type": "slide"
      }
     },
     "source": [
      "# What models are untapped?\n",
      "- ## team as model\n",
      "- ## tools as model\n",
      "- ## history as a model\n",
      "- ## reuse as a model\n",
      "- ## model execution as a model"
     ]
    },
    {
     "cell_type": "markdown",
     "metadata": {
      "slideshow": {
       "slide_type": "slide"
      }
     },
     "source": [
      "# OpenSEAT\n",
      "\n",
      "> Georgia Tech's Open Systems Engineering & Architecture Toolkit\n",
      "\n",
      "- ## MIT Licensed\n",
      "- ## Realtime Web-based\n",
      "- ## Mobile-first"
     ]
    },
    {
     "cell_type": "markdown",
     "metadata": {
      "slideshow": {
       "slide_type": "slide"
      }
     },
     "source": [
      "# OpenSEAT: Layers of Perception\n",
      "<div data-svg-fragment=\"images/layers.svg\">\n",
      "</div>"
     ]
    },
    {
     "cell_type": "markdown",
     "metadata": {
      "slideshow": {
       "slide_type": "slide"
      }
     },
     "source": [
      "# References\n",
      "- Malhotra, Y., [Why Knowledge Management Systems Fail? Enablers and Constraints of Knowledge Management in Human Enterprises](http://www.brint.org/WhyKMSFail.htm) . In Michael E.D. Koenig & T. Kanti Srikantaiah (Eds.), Knowledge Management Lessons Learned: What Works and What Doesn't, Information Today Inc. (American Society for Information Science and Technology Monograph Series), 87-112, 2004."
     ]
    },
    {
     "cell_type": "code",
     "collapsed": false,
     "input": [],
     "language": "python",
     "metadata": {},
     "outputs": []
    },
    {
     "cell_type": "markdown",
     "metadata": {
      "slideshow": {
       "slide_type": "skip"
      }
     },
     "source": [
      "> Why is Wolfram Alpha powerful?\n",
      "\n",
      "Curated data."
     ]
    },
    {
     "cell_type": "markdown",
     "metadata": {
      "slideshow": {
       "slide_type": "skip"
      }
     },
     "source": [
      "# Iron Man\n",
      "- what is conceptual design?\n",
      "  - what is parametric conceptual design?\n",
      "  - code it up, fiddle with it until it works\n",
      "    - figure out specific values\n",
      "      - figure out a reasonable range"
     ]
    },
    {
     "cell_type": "markdown",
     "metadata": {
      "slideshow": {
       "slide_type": "skip"
      }
     },
     "source": [
      "> How could someone that is not an engineer\n",
      "\n",
      "- Get executable\n",
      "- Modelica is a good starting point\n",
      "  - I understand what integration is... but I couldn't actually integrate all of them"
     ]
    },
    {
     "cell_type": "markdown",
     "metadata": {
      "slideshow": {
       "slide_type": "skip"
      }
     },
     "source": [
      "> If we are going to use this for Knowledge Management, what are you going to use it for?\n",
      "\n",
      "- Use it to quickly bootstrap engineering, system intervention design problems.\n",
      "- Come up with enough structure to make some initial decisions."
     ]
    },
    {
     "cell_type": "code",
     "collapsed": false,
     "input": [
      "def to_slides():\n",
      "    import subprocess\n",
      "    import os\n",
      "    env = os.environ.copy()\n",
      "    if \"win\" in sys.platform:\n",
      "        env[\"PATH\"] = os.path.expanduser(\"~\") + \"AppData\\Local\\Pandoc;\" + env[\"PATH\"]\n",
      "    \n",
      "    print subprocess.Popen(\n",
      "        [\"ipython\", \"nbconvert\", \"*.ipynb\", \"--to\", \"slides\"],\n",
      "        env=env,\n",
      "        stdout=subprocess.PIPE,\n",
      "        stderr=subprocess.PIPE\n",
      "    ).communicate()\n",
      "\n",
      "def install_svg_reveal():\n",
      "    import re\n",
      "    import os\n",
      "    pattern = re.compile(r'(reveal.js/plugin/notes/notes.js.*\\})')\n",
      "    dep = r\"\"\"\\1,\n",
      "    {\n",
      "        src: \"reveal-svg-fragment/reveal-svg-fragment.js\",\n",
      "        async: true,\n",
      "        condition: function(){ return true; }\n",
      "    }\n",
      "    \"\"\"\n",
      "    fname = \"Knowledge 3.0.slides.html\"\n",
      "    with file(fname) as f:\n",
      "        src = f.read()\n",
      "    if dep not in src:\n",
      "        src = re.sub(pattern, dep, src)\n",
      "    os.unlink(fname)\n",
      "    with file(fname, \"w+\") as f:\n",
      "        f.write(src)\n",
      "to_slides()\n",
      "install_svg_reveal()"
     ],
     "language": "python",
     "metadata": {
      "slideshow": {
       "slide_type": "skip"
      }
     },
     "outputs": [
      {
       "output_type": "stream",
       "stream": "stdout",
       "text": [
        "('', '[NbConvertApp] Using existing profile dir: u\\'C:\\\\\\\\Users\\\\\\\\nbollweg3\\\\\\\\.ipython\\\\\\\\profile_default\\'\\r\\n[NbConvertApp] Converting notebook Knowledge 3.0.ipynb to slides\\r\\n[NbConvertApp] Support files will be in Knowledge 3.0_files\\\\\\r\\n[NbConvertApp] Loaded template slides_reveal.tpl\\r\\nc:\\\\virtualenvs\\\\ipython\\\\lib\\\\site-packages\\\\IPython\\\\nbconvert\\\\filters\\\\markdown.py:78: UserWarning: Node.js 0.9.12 or later wasn\\'t found.\\r\\nNbconvert will try to use Pandoc instead.\\r\\n  \"Nbconvert will try to use Pandoc instead.\")\\r\\n[NbConvertApp] ERROR | Error while converting \\'Knowledge 3.0.ipynb\\'\\r\\nTraceback (most recent call last):\\r\\n  File \"c:\\\\virtualenvs\\\\ipython\\\\lib\\\\site-packages\\\\IPython\\\\nbconvert\\\\nbconvertapp.py\", line 301, in convert_notebooks\\r\\n    output, resources = exporter.from_filename(notebook_filename, resources=resources)\\r\\n  File \"c:\\\\virtualenvs\\\\ipython\\\\lib\\\\site-packages\\\\IPython\\\\nbconvert\\\\exporters\\\\exporter.py\", line 151, in from_filename\\r\\n    return self.from_notebook_node(nbformat.read(f, \\'json\\'), resources=resources, **kw)\\r\\n  File \"c:\\\\virtualenvs\\\\ipython\\\\lib\\\\site-packages\\\\IPython\\\\nbconvert\\\\exporters\\\\templateexporter.py\", line 215, in from_notebook_node\\r\\n    output = self.template.render(nb=nb_copy, resources=resources)\\r\\n  File \"c:\\\\virtualenvs\\\\ipython\\\\lib\\\\site-packages\\\\jinja2\\\\environment.py\", line 969, in render\\r\\n    return self.environment.handle_exception(exc_info, True)\\r\\n  File \"c:\\\\virtualenvs\\\\ipython\\\\lib\\\\site-packages\\\\jinja2\\\\environment.py\", line 742, in handle_exception\\r\\n    reraise(exc_type, exc_value, tb)\\r\\n  File \"c:\\\\virtualenvs\\\\ipython\\\\lib\\\\site-packages\\\\IPython\\\\nbconvert\\\\exporters\\\\..\\\\templates\\\\html\\\\slides_reveal.tpl\", line 2, in top-level template code\\r\\n    {% from \\'mathjax.tpl\\' import mathjax %}\\r\\n  File \"c:\\\\virtualenvs\\\\ipython\\\\lib\\\\site-packages\\\\IPython\\\\nbconvert\\\\exporters\\\\..\\\\templates\\\\html\\\\basic.tpl\", line 1, in top-level template code\\r\\n    {%- extends \\'display_priority.tpl\\' -%}\\r\\n  File \"c:\\\\virtualenvs\\\\ipython\\\\lib\\\\site-packages\\\\IPython\\\\nbconvert\\\\exporters\\\\..\\\\templates\\\\skeleton\\\\display_priority.tpl\", line 1, in top-level template code\\r\\n    {%- extends \\'null.tpl\\' -%}\\r\\n  File \"c:\\\\virtualenvs\\\\ipython\\\\lib\\\\site-packages\\\\IPython\\\\nbconvert\\\\exporters\\\\..\\\\templates\\\\skeleton\\\\null.tpl\", line 26, in top-level template code\\r\\n    {%- block body -%}\\r\\n  File \"c:\\\\virtualenvs\\\\ipython\\\\lib\\\\site-packages\\\\IPython\\\\nbconvert\\\\exporters\\\\..\\\\templates\\\\html\\\\slides_reveal.tpl\", line 145, in block \"body\"\\r\\n    {{ super() }}\\r\\n  File \"c:\\\\virtualenvs\\\\ipython\\\\lib\\\\site-packages\\\\IPython\\\\nbconvert\\\\exporters\\\\..\\\\templates\\\\skeleton\\\\null.tpl\", line 29, in block \"body\"\\r\\n    {%- block any_cell scoped -%}\\r\\n  File \"c:\\\\virtualenvs\\\\ipython\\\\lib\\\\site-packages\\\\IPython\\\\nbconvert\\\\exporters\\\\..\\\\templates\\\\html\\\\slides_reveal.tpl\", line 8, in block \"any_cell\"\\r\\n    {{ super() }}\\r\\n  File \"c:\\\\virtualenvs\\\\ipython\\\\lib\\\\site-packages\\\\IPython\\\\nbconvert\\\\exporters\\\\..\\\\templates\\\\skeleton\\\\null.tpl\", line 73, in block \"any_cell\"\\r\\n    {%- block markdowncell scoped-%}\\r\\n  File \"c:\\\\virtualenvs\\\\ipython\\\\lib\\\\site-packages\\\\IPython\\\\nbconvert\\\\exporters\\\\..\\\\templates\\\\html\\\\basic.tpl\", line 68, in block \"markdowncell\"\\r\\n    {{ cell.source  | markdown2html | strip_files_prefix }}\\r\\n  File \"c:\\\\virtualenvs\\\\ipython\\\\lib\\\\site-packages\\\\IPython\\\\nbconvert\\\\filters\\\\markdown.py\", line 83, in markdown2html\\r\\n    return markdown2html_pandoc(source)\\r\\n  File \"c:\\\\virtualenvs\\\\ipython\\\\lib\\\\site-packages\\\\IPython\\\\nbconvert\\\\filters\\\\markdown.py\", line 87, in markdown2html_pandoc\\r\\n    return pandoc(source, \\'markdown\\', \\'html\\', extra_args=[\\'--mathjax\\'])\\r\\n  File \"c:\\\\virtualenvs\\\\ipython\\\\lib\\\\site-packages\\\\IPython\\\\nbconvert\\\\utils\\\\pandoc.py\", line 63, in pandoc\\r\\n    check_pandoc_version()\\r\\n  File \"c:\\\\virtualenvs\\\\ipython\\\\lib\\\\site-packages\\\\IPython\\\\nbconvert\\\\utils\\\\pandoc.py\", line 104, in check_pandoc_version\\r\\n    v = get_pandoc_version()\\r\\n  File \"c:\\\\virtualenvs\\\\ipython\\\\lib\\\\site-packages\\\\IPython\\\\nbconvert\\\\utils\\\\pandoc.py\", line 88, in get_pandoc_version\\r\\n    raise PandocMissing()\\r\\nPandocMissing: Pandoc wasn\\'t found.\\r\\nPlease check that pandoc is installed:\\r\\nhttp://johnmacfarlane.net/pandoc/installing.html\\r\\n')\n"
       ]
      }
     ],
     "prompt_number": 8
    },
    {
     "cell_type": "code",
     "collapsed": false,
     "input": [],
     "language": "python",
     "metadata": {},
     "outputs": []
    },
    {
     "cell_type": "code",
     "collapsed": false,
     "input": [],
     "language": "python",
     "metadata": {},
     "outputs": []
    }
   ],
   "metadata": {}
  }
 ]
}